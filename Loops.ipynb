{
  "nbformat": 4,
  "nbformat_minor": 0,
  "metadata": {
    "colab": {
      "provenance": [],
      "authorship_tag": "ABX9TyOHEx50gQfIz6+orXz01w4M",
      "include_colab_link": true
    },
    "kernelspec": {
      "name": "python3",
      "display_name": "Python 3"
    },
    "language_info": {
      "name": "python"
    }
  },
  "cells": [
    {
      "cell_type": "markdown",
      "metadata": {
        "id": "view-in-github",
        "colab_type": "text"
      },
      "source": [
        "<a href=\"https://colab.research.google.com/github/AbhilashJoshi09/colab/blob/main/Loops.ipynb\" target=\"_parent\"><img src=\"https://colab.research.google.com/assets/colab-badge.svg\" alt=\"Open In Colab\"/></a>"
      ]
    },
    {
      "cell_type": "code",
      "execution_count": null,
      "metadata": {
        "id": "z8ub-MJIE9qW"
      },
      "outputs": [],
      "source": [
        "#loops\n",
        "\n"
      ]
    },
    {
      "cell_type": "code",
      "source": [
        "for x in range(1,4):\n",
        "    print(\"hii\")"
      ],
      "metadata": {
        "colab": {
          "base_uri": "https://localhost:8080/"
        },
        "id": "Mp4DaEK9MovP",
        "outputId": "fabb9765-bd7e-49c4-becf-a58ce1e3bacc"
      },
      "execution_count": null,
      "outputs": [
        {
          "output_type": "stream",
          "name": "stdout",
          "text": [
            "hii\n",
            "hii\n",
            "hii\n"
          ]
        }
      ]
    },
    {
      "cell_type": "code",
      "source": [
        "total = 0\n",
        "for x in range(98,2):\n",
        "    total +=x\n",
        "print(x)"
      ],
      "metadata": {
        "colab": {
          "base_uri": "https://localhost:8080/"
        },
        "id": "lGwu_lSLOipY",
        "outputId": "07cc0032-4d29-4734-cd45-6d2a8264caef"
      },
      "execution_count": null,
      "outputs": [
        {
          "output_type": "stream",
          "name": "stdout",
          "text": [
            "3\n"
          ]
        }
      ]
    },
    {
      "cell_type": "code",
      "source": [
        "# loop string data\n",
        "for x in \"hey\":\n",
        "    print(x)"
      ],
      "metadata": {
        "colab": {
          "base_uri": "https://localhost:8080/"
        },
        "id": "SewblpfwPWrw",
        "outputId": "cd28016d-0a83-48e8-ed63-be7fa7b188b7"
      },
      "execution_count": null,
      "outputs": [
        {
          "output_type": "stream",
          "name": "stdout",
          "text": [
            "h\n",
            "e\n",
            "y\n"
          ]
        }
      ]
    },
    {
      "cell_type": "code",
      "source": [
        "data=\"hey\"\n",
        "for i in range(0,3):\n",
        "  print(i,data,data[i])"
      ],
      "metadata": {
        "colab": {
          "base_uri": "https://localhost:8080/"
        },
        "id": "EZSyZSo-P9w8",
        "outputId": "f97e0d2e-e3dd-4386-9c60-582c9c25ef4e"
      },
      "execution_count": null,
      "outputs": [
        {
          "output_type": "stream",
          "name": "stdout",
          "text": [
            "0 hey h\n",
            "1 hey e\n",
            "2 hey y\n"
          ]
        }
      ]
    },
    {
      "cell_type": "code",
      "source": [
        "data=\"Hello hey\"\n",
        "for i in range(0,len(data) ):\n",
        "  print(i,data[i])"
      ],
      "metadata": {
        "colab": {
          "base_uri": "https://localhost:8080/"
        },
        "id": "mKY9GL1cQUFz",
        "outputId": "4412b289-f65f-403d-8f10-1edc6685c681"
      },
      "execution_count": null,
      "outputs": [
        {
          "output_type": "stream",
          "name": "stdout",
          "text": [
            "0 H\n",
            "1 e\n",
            "2 l\n",
            "3 l\n",
            "4 o\n",
            "5  \n",
            "6 h\n",
            "7 e\n",
            "8 y\n"
          ]
        }
      ]
    },
    {
      "cell_type": "code",
      "source": [
        "data=\"Hello hey\"\n",
        "for i in range(0,10,2 ):\n",
        "  print(i,data[i])"
      ],
      "metadata": {
        "colab": {
          "base_uri": "https://localhost:8080/"
        },
        "id": "7j7pOmDaQtql",
        "outputId": "bcffb97d-30a8-4801-e8e2-4782f6261d80"
      },
      "execution_count": null,
      "outputs": [
        {
          "output_type": "stream",
          "name": "stdout",
          "text": [
            "0 H\n",
            "2 l\n",
            "4 o\n",
            "6 h\n",
            "8 y\n"
          ]
        }
      ]
    },
    {
      "cell_type": "code",
      "source": [
        "total = 0\n",
        "for x in range(15,101):\n",
        "  if(x%2 and x%3 ==0):\n",
        "    total=total+x\n",
        "    print(total)"
      ],
      "metadata": {
        "colab": {
          "base_uri": "https://localhost:8080/"
        },
        "collapsed": true,
        "id": "VFBp3owERv2P",
        "outputId": "ac8cc743-964a-4dc7-8821-31415d45b343"
      },
      "execution_count": 4,
      "outputs": [
        {
          "output_type": "stream",
          "name": "stdout",
          "text": [
            "15\n",
            "36\n",
            "63\n",
            "96\n",
            "135\n",
            "180\n",
            "231\n",
            "288\n",
            "351\n",
            "420\n",
            "495\n",
            "576\n",
            "663\n",
            "756\n",
            "855\n"
          ]
        }
      ]
    },
    {
      "cell_type": "code",
      "source": [
        "strings = [\n",
        "    \"hello\",\n",
        "    \"education\",\n",
        "    \"beautiful\",\n",
        "    \"cdf\",\n",
        "    \"quick brown fox jumps over the lazy dog\"\n",
        "]\n",
        "\n",
        "for string in strings:\n",
        "    if (string):\n",
        "        print(f\" {string} contains all the vowels\")\n",
        "    else:\n",
        "        print(f\" {string} does not contain all the vowels\")"
      ],
      "metadata": {
        "colab": {
          "base_uri": "https://localhost:8080/"
        },
        "id": "d8xKBAt9StkC",
        "outputId": "47a8c67f-9026-434f-966a-c103e8d732cc"
      },
      "execution_count": null,
      "outputs": [
        {
          "output_type": "stream",
          "name": "stdout",
          "text": [
            " hello contains all the vowels\n",
            " education contains all the vowels\n",
            " beautiful contains all the vowels\n",
            " cdf contains all the vowels\n",
            " quick brown fox jumps over the lazy dog contains all the vowels\n"
          ]
        }
      ]
    },
    {
      "cell_type": "code",
      "source": [
        "for i in range(1,5):\n",
        "\n",
        "  for j in range(1,6):\n",
        "    print(j,end=\"\")\n",
        "\n",
        "  print(\"\")"
      ],
      "metadata": {
        "colab": {
          "base_uri": "https://localhost:8080/"
        },
        "id": "WyqMeFd_Wcn8",
        "outputId": "8e37ba57-3a42-4801-cfe0-cc33dbad7ceb"
      },
      "execution_count": null,
      "outputs": [
        {
          "output_type": "stream",
          "name": "stdout",
          "text": [
            "12345\n",
            "12345\n",
            "12345\n",
            "12345\n"
          ]
        }
      ]
    },
    {
      "cell_type": "code",
      "source": [],
      "metadata": {
        "id": "M2AKy1gra3m8"
      },
      "execution_count": null,
      "outputs": []
    },
    {
      "cell_type": "code",
      "source": [
        "for i in range(1,4):\n",
        "\n",
        "  for j in range(10,19,2):\n",
        "    print(j, end=\" \")\n",
        "\n",
        "  print(\"\")"
      ],
      "metadata": {
        "colab": {
          "base_uri": "https://localhost:8080/"
        },
        "id": "3-KgApQwYM5C",
        "outputId": "375eeca0-bb44-4211-fa7a-dd61dd1465f2"
      },
      "execution_count": 11,
      "outputs": [
        {
          "output_type": "stream",
          "name": "stdout",
          "text": [
            "10 12 14 16 18 \n",
            "10 12 14 16 18 \n",
            "10 12 14 16 18 \n"
          ]
        }
      ]
    },
    {
      "cell_type": "code",
      "source": [
        "for i in range(1,3):\n",
        "\n",
        "  for j in range(10,16):\n",
        "       print(j,end=\" \")\n",
        "\n",
        "  print(\"\")"
      ],
      "metadata": {
        "colab": {
          "base_uri": "https://localhost:8080/"
        },
        "id": "QyhwIXx2ZmPw",
        "outputId": "d93bcbf8-6843-46d1-8e5f-38525faf89f3"
      },
      "execution_count": 8,
      "outputs": [
        {
          "output_type": "stream",
          "name": "stdout",
          "text": [
            "10 11 12 13 14 15 \n",
            "10 11 12 13 14 15 \n"
          ]
        }
      ]
    },
    {
      "cell_type": "code",
      "source": [
        "\n",
        "for i in range(1,5):\n",
        "  for j in range(1,i+1):\n",
        "      print(\"*\", end=\"\")\n",
        "  print(\"\")"
      ],
      "metadata": {
        "colab": {
          "base_uri": "https://localhost:8080/"
        },
        "id": "RZGSyC4rbByZ",
        "outputId": "5c2e86c8-993b-4a44-f111-2ece8658b6c8"
      },
      "execution_count": 13,
      "outputs": [
        {
          "output_type": "stream",
          "name": "stdout",
          "text": [
            "*\n",
            "**\n",
            "***\n",
            "****\n"
          ]
        }
      ]
    },
    {
      "cell_type": "code",
      "source": [
        "for i in range(5,0,-1):\n",
        "  for j in range(1,i+1):\n",
        "      print(\"*\", end=\"\")\n",
        "  print(\"\")"
      ],
      "metadata": {
        "colab": {
          "base_uri": "https://localhost:8080/"
        },
        "id": "4NES4g5FfA7w",
        "outputId": "b2ed73c7-219f-43fd-fe8e-2f419fa25b9e"
      },
      "execution_count": 14,
      "outputs": [
        {
          "output_type": "stream",
          "name": "stdout",
          "text": [
            "*****\n",
            "****\n",
            "***\n",
            "**\n",
            "*\n"
          ]
        }
      ]
    },
    {
      "cell_type": "code",
      "source": [
        "for i in range(1,5):\n",
        "  for j in range(1,i+1):\n",
        "      print(j, end=\" \")\n",
        "  print(\"\")"
      ],
      "metadata": {
        "colab": {
          "base_uri": "https://localhost:8080/"
        },
        "id": "zstX6Sk2fa2P",
        "outputId": "64157563-cf73-43e1-deac-22e7118cce41"
      },
      "execution_count": 52,
      "outputs": [
        {
          "output_type": "stream",
          "name": "stdout",
          "text": [
            "1 \n",
            "1 2 \n",
            "1 2 3 \n",
            "1 2 3 4 \n"
          ]
        }
      ]
    },
    {
      "cell_type": "code",
      "source": [
        "for i in range(1,5):\n",
        "  for j in range(i):\n",
        "      print(i, end=\" \")\n",
        "  print(\"\")"
      ],
      "metadata": {
        "colab": {
          "base_uri": "https://localhost:8080/"
        },
        "id": "D5vs5pDei4LO",
        "outputId": "ce1c5b77-03fd-4cc0-fa99-02083f7954d8"
      },
      "execution_count": 50,
      "outputs": [
        {
          "output_type": "stream",
          "name": "stdout",
          "text": [
            "1 \n",
            "2 2 \n",
            "3 3 3 \n",
            "4 4 4 4 \n"
          ]
        }
      ]
    },
    {
      "cell_type": "code",
      "source": [
        "for i in range(4,0,-1):\n",
        "  for j in range(i):\n",
        "      print(i, end=\" \")\n",
        "  print(\"\")"
      ],
      "metadata": {
        "colab": {
          "base_uri": "https://localhost:8080/"
        },
        "id": "ezTO05orkVW3",
        "outputId": "c7a18137-86d2-4c0e-855c-ccf9cbd2a924"
      },
      "execution_count": 55,
      "outputs": [
        {
          "output_type": "stream",
          "name": "stdout",
          "text": [
            "4 4 4 4 \n",
            "3 3 3 \n",
            "2 2 \n",
            "1 \n"
          ]
        }
      ]
    },
    {
      "cell_type": "code",
      "source": [
        "for i in range(4,0,-1):\n",
        "  for j in range(4-i+1):\n",
        "      print(i, end=\" \")\n",
        "  print(\"\")"
      ],
      "metadata": {
        "colab": {
          "base_uri": "https://localhost:8080/"
        },
        "id": "SWAqRIT-kyuI",
        "outputId": "fcb75b2d-4882-4513-838f-b98b327cbe0f"
      },
      "execution_count": 65,
      "outputs": [
        {
          "output_type": "stream",
          "name": "stdout",
          "text": [
            "4 \n",
            "3 3 \n",
            "2 2 2 \n",
            "1 1 1 1 \n"
          ]
        }
      ]
    },
    {
      "cell_type": "code",
      "source": [
        "for i in range(1,5):\n",
        "  for j in range(4-i+1):\n",
        "      print(i, end=\" \")\n",
        "  print(\"\")"
      ],
      "metadata": {
        "colab": {
          "base_uri": "https://localhost:8080/"
        },
        "id": "5xPT-ajSmc4n",
        "outputId": "1ead52a6-20f4-4f78-f40a-b220702f8c68"
      },
      "execution_count": 68,
      "outputs": [
        {
          "output_type": "stream",
          "name": "stdout",
          "text": [
            "1 1 1 1 \n",
            "2 2 2 \n",
            "3 3 \n",
            "4 \n"
          ]
        }
      ]
    },
    {
      "cell_type": "code",
      "source": [
        "for i in range(10,15):\n",
        "  for j in range(14-i+1):\n",
        "      print(i, end=\" \")\n",
        "  print(\"\")"
      ],
      "metadata": {
        "colab": {
          "base_uri": "https://localhost:8080/"
        },
        "id": "qzU-QmvqnAty",
        "outputId": "f61503eb-f559-48ec-b11d-95e72215bf18"
      },
      "execution_count": 84,
      "outputs": [
        {
          "output_type": "stream",
          "name": "stdout",
          "text": [
            "10 10 10 10 10 \n",
            "11 11 11 11 \n",
            "12 12 12 \n",
            "13 13 \n",
            "14 \n"
          ]
        }
      ]
    }
  ]
}