{
  "nbformat": 4,
  "nbformat_minor": 0,
  "metadata": {
    "colab": {
      "provenance": [],
      "authorship_tag": "ABX9TyMahnUae6ynzVS6P8pw+wf5",
      "include_colab_link": true
    },
    "kernelspec": {
      "name": "python3",
      "display_name": "Python 3"
    },
    "language_info": {
      "name": "python"
    }
  },
  "cells": [
    {
      "cell_type": "markdown",
      "metadata": {
        "id": "view-in-github",
        "colab_type": "text"
      },
      "source": [
        "<a href=\"https://colab.research.google.com/github/AbhilashJoshi09/colab/blob/main/Untitled0.ipynb\" target=\"_parent\"><img src=\"https://colab.research.google.com/assets/colab-badge.svg\" alt=\"Open In Colab\"/></a>"
      ]
    },
    {
      "cell_type": "code",
      "execution_count": null,
      "metadata": {
        "colab": {
          "base_uri": "https://localhost:8080/"
        },
        "id": "kOmxEfFU9Q4S",
        "outputId": "d47d8afb-2f4b-42a4-c7e0-900ad825c5cf"
      },
      "outputs": [
        {
          "output_type": "stream",
          "name": "stdout",
          "text": [
            "user name is abhilash\n",
            "user name is abhilash\n"
          ]
        }
      ],
      "source": [
        "username = \"abhilash\"\n",
        "msg = f\"user name is {username}\"\n",
        "print(msg)\n",
        "username = \"milan\"\n",
        "print(msg)\n"
      ]
    },
    {
      "cell_type": "code",
      "source": [],
      "metadata": {
        "id": "oqOa9sNtBa0A"
      },
      "execution_count": null,
      "outputs": []
    }
  ]
}